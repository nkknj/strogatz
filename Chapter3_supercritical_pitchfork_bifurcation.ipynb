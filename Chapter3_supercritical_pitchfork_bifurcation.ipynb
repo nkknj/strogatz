{
 "cells": [
  {
   "cell_type": "code",
   "execution_count": 1,
   "metadata": {},
   "outputs": [],
   "source": [
    "import numpy as np\n",
    "import matplotlib.pyplot as plt"
   ]
  },
  {
   "cell_type": "code",
   "execution_count": 2,
   "metadata": {},
   "outputs": [
    {
     "data": {
      "image/png": "[encoded data removed]",
      "text/plain": [
       "<matplotlib.figure.Figure at 0x1c1abdc3208>"
      ]
     },
     "metadata": {},
     "output_type": "display_data"
    }
   ],
   "source": [
    "#例題3.4.1\n",
    "def f(x, b):\n",
    "    return b*np.tanh(x)-x\n",
    "\n",
    "B=np.arange(0, 2, 0.01)\n",
    "\n",
    "for b in B:\n",
    "    x=np.arange(-5, 5, 0.1)\n",
    "    x_d=f(x, b)\n",
    "\n",
    "    i=1\n",
    "    while i+1<x.shape[0]:\n",
    "        if x_d[i]*x_d[i+1]<=0:\n",
    "            tempx=x[i]+(x[i+1]-x[i])*x_d[i]/(x_d[i]-x_d[i+1])\n",
    "            if x_d[i]>x_d[i+1]:\n",
    "                plt.plot(b, tempx, marker='o', color='red', markersize=2)\n",
    "            else:\n",
    "                plt.plot(b, tempx, marker='o', color='blue', markersize=2)\n",
    "        i+=1\n",
    "\n",
    "plt.grid()\n",
    "plt.show()"
   ]
  },
  {
   "cell_type": "code",
   "execution_count": null,
   "metadata": {},
   "outputs": [],
   "source": []
  }
 ],
 "metadata": {
  "kernelspec": {
   "display_name": "Python 3",
   "language": "python",
   "name": "python3"
  },
  "language_info": {
   "codemirror_mode": {
    "name": "ipython",
    "version": 3
   },
   "file_extension": ".py",
   "mimetype": "text/x-python",
   "name": "python",
   "nbconvert_exporter": "python",
   "pygments_lexer": "ipython3",
   "version": "3.6.4"
  }
 },
 "nbformat": 4,
 "nbformat_minor": 2
}
